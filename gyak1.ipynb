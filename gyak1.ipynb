{
 "cells": [
  {
   "cell_type": "markdown",
   "metadata": {},
   "source": [
    "# 1. gyakorlat"
   ]
  },
  {
   "cell_type": "markdown",
   "metadata": {},
   "source": [
    "## AdminisztratĂ­v rĂŠszletek"
   ]
  },
  {
   "cell_type": "markdown",
   "metadata": {},
   "source": [
    "**ElĂŠrhetĹsĂŠg**: kolok.balazs.csego@gmail.com (vagy MS Teamsen)"
   ]
  },
  {
   "cell_type": "markdown",
   "metadata": {},
   "source": [
    "**Ăra kezdete**: 12:15 - 14:45"
   ]
  },
  {
   "cell_type": "markdown",
   "metadata": {},
   "source": [
    "**ĂrtĂŠkelĂŠs**: \n",
    " * hetente hĂĄzi feladatok, leadĂĄs a kĂśvetkezĹ gyakorlat elejĂŠre, emailben az elsĹt. Az email tĂĄrgya legyen HF_<sorszĂĄma>_<NEPTUN kĂłd>, a leadott file neve legyen ugyanez.\n",
    "*Pl: 1. hĂĄzi feladatot az ABC123 neptun kĂłdĂş hallgatĂł a HF_1_ABC123 nĂŠven adnĂĄ le.*\n",
    "\n",
    "pontok:\n",
    "\n",
    "* HF-k: minden idĹben leadott hĂĄzi max 10 pont, kĂŠsve leadott hĂĄzi max fĂŠl pont. Ha nem jĂł a hĂĄzi de lĂĄtom, hogy foglalkoztĂĄl vele, akkor lehet javĂ­tani az pontĂŠrt. Ezek szĂĄmĂ­tanak be a hf pontszĂĄmba.\n",
    "\n",
    "* Ăłrai munkĂĄĂŠrt is lehet pontot kapni max 5 pont a csillagos feladatokĂŠrt\n",
    "\n",
    "* csapatmunka: a fĂŠlĂŠv sorĂĄn lesz olyan Ăłra, amit csapatmunkĂĄval tĂśltĂźnk el. Ezeken is lehet extrapontokat szerezni.\n",
    "\n",
    "* 1 projektmunka\n",
    "\n",
    "A ponthatĂĄrok:\n",
    "\n",
    "60%-tĂłl elĂŠgsĂŠges\n",
    "70%-tĂłl kĂśzepes\n",
    "80%-tĂłl jĂł,\n",
    "90%-tĂłl jeles"
   ]
  },
  {
   "cell_type": "markdown",
   "metadata": {},
   "source": [
    "**ĂłrĂĄk anyaga**: (mindig frissĂźl!)\n",
    " \n",
    " * Dropbox: https://www.dropbox.com/scl/fo/9d1w09tlgzd1gjel7dxac/ABNXplSm_6oU1uAZlGOGhWc?rlkey=xtl5wk7c3wb54qdu84tppak0m&st=fbv3ttbh&dl=0"
   ]
  },
  {
   "cell_type": "markdown",
   "metadata": {},
   "source": [
    "## ĂrtĂŠkek ĂŠs tĂ­pusok"
   ]
  },
  {
   "cell_type": "markdown",
   "metadata": {},
   "source": [
    "### Numerikus adattĂ­pusok: `int`, `float`, `complex`"
   ]
  },
  {
   "cell_type": "markdown",
   "metadata": {},
   "source": [
    "Az `int` az egĂŠsz szĂĄmokat jelĂśli. A `type` fĂźggvĂŠnnyel lehet \"elkĂŠrni\" egy objektum tĂ­pusĂĄt."
   ]
  },
  {
   "cell_type": "code",
   "execution_count": null,
   "metadata": {},
   "outputs": [],
   "source": [
    "9, type(9)"
   ]
  },
  {
   "cell_type": "markdown",
   "metadata": {},
   "source": [
    "A `float` a valĂłs (racionĂĄlis) szĂĄmok ĂĄbrĂĄzolĂĄsĂĄra valĂł."
   ]
  },
  {
   "cell_type": "code",
   "execution_count": null,
   "metadata": {},
   "outputs": [],
   "source": [
    "0.8, type(0.8)"
   ]
  },
  {
   "cell_type": "markdown",
   "metadata": {},
   "source": [
    "A `complex` a komplex szĂĄmokat jelĂśli."
   ]
  },
  {
   "cell_type": "code",
   "execution_count": null,
   "metadata": {
    "scrolled": true
   },
   "outputs": [],
   "source": [
    "1+3j, type(1+3j)"
   ]
  },
  {
   "cell_type": "markdown",
   "metadata": {},
   "source": [
    "NormĂĄlalak:"
   ]
  },
  {
   "cell_type": "code",
   "execution_count": null,
   "metadata": {},
   "outputs": [],
   "source": [
    "1.25e10, 3.19e-5, 0.0000319"
   ]
  },
  {
   "cell_type": "markdown",
   "metadata": {},
   "source": [
    "### A `string` adattĂ­pus\n",
    "A `string` a \"szĂśveg\" tĂ­pusĂş adatok tĂĄrolĂĄsĂĄra alkalmas, valĂłjĂĄban karakterlĂĄncot jelĂśl. Az idĂŠzĹjelek kĂśzĂśtti szĂśveget a python `string`-nek veszi."
   ]
  },
  {
   "cell_type": "code",
   "execution_count": null,
   "metadata": {},
   "outputs": [],
   "source": [
    "\"xyz 123234 , .123?.#\", 'kĂśrte', \n",
    "\n",
    "\n",
    "\"\"\"kalap\n",
    "sadsa\n",
    "\n",
    "dsafsaf\n",
    "\n",
    "\"\"\""
   ]
  },
  {
   "cell_type": "code",
   "execution_count": null,
   "metadata": {},
   "outputs": [],
   "source": [
    "\"azt mondta : 'valami'\""
   ]
  },
  {
   "cell_type": "code",
   "execution_count": null,
   "metadata": {},
   "outputs": [],
   "source": [
    "\"azt mondta : 'valami'\""
   ]
  },
  {
   "cell_type": "code",
   "execution_count": null,
   "metadata": {
    "scrolled": true
   },
   "outputs": [],
   "source": [
    "type(\"xyz\")"
   ]
  },
  {
   "cell_type": "markdown",
   "metadata": {},
   "source": [
    "### Logikai (`bool`) adattĂ­pus"
   ]
  },
  {
   "cell_type": "code",
   "execution_count": null,
   "metadata": {},
   "outputs": [],
   "source": [
    "True, False"
   ]
  },
  {
   "cell_type": "code",
   "execution_count": null,
   "metadata": {},
   "outputs": [],
   "source": [
    "type(True)"
   ]
  },
  {
   "cell_type": "markdown",
   "metadata": {},
   "source": [
    "## VĂĄltozĂłk\n",
    "Az ĂŠrtĂŠkeknek nevet adhatunk, ami alapjĂĄn kĂŠsĹbb lekĂŠrdehetjĂźk ĂŠs mĂłdosĂ­thatjuk Ĺket. Ez a nĂŠv a vĂĄltozĂł."
   ]
  },
  {
   "cell_type": "markdown",
   "metadata": {},
   "source": [
    "ĂrtĂŠkadĂĄs vĂĄltozĂłnak:"
   ]
  },
  {
   "cell_type": "code",
   "execution_count": null,
   "metadata": {},
   "outputs": [],
   "source": [
    "a = 1\n",
    "a"
   ]
  },
  {
   "cell_type": "code",
   "execution_count": null,
   "metadata": {},
   "outputs": [],
   "source": [
    "type(a)"
   ]
  },
  {
   "cell_type": "markdown",
   "metadata": {},
   "source": [
    "A `print` fĂźggvĂŠny az argumentumĂĄt kiĂ­rja."
   ]
  },
  {
   "cell_type": "code",
   "execution_count": null,
   "metadata": {},
   "outputs": [],
   "source": [
    "print(\"xyz\")"
   ]
  },
  {
   "cell_type": "code",
   "execution_count": null,
   "metadata": {},
   "outputs": [],
   "source": [
    "print(a)"
   ]
  },
  {
   "cell_type": "markdown",
   "metadata": {},
   "source": [
    "A vĂĄltozĂłk legfĹbb haszna, hogy az ĂĄltaluk jelĂślt ĂŠrtĂŠket megvĂĄltoztathatjuk, felĂźlĂ­rhatjuk."
   ]
  },
  {
   "cell_type": "code",
   "execution_count": null,
   "metadata": {},
   "outputs": [],
   "source": [
    "print(a)\n",
    "a = 0\n",
    "print(a)"
   ]
  },
  {
   "cell_type": "markdown",
   "metadata": {},
   "source": [
    "A pythonban a kiĂŠrtĂŠkelĂŠs \"jobbrĂłl balra\" tĂśrtĂŠnik, vagyis ĂŠrvĂŠnyes az alĂĄbbi programkĂłd, mivel elĹszĂśr a `b+1` ĂŠrtĂŠkelĹdik ki, ĂŠs a `b` vĂĄltozĂłk ezt kapja ĂŠrtĂŠkĂźl."
   ]
  },
  {
   "cell_type": "code",
   "execution_count": null,
   "metadata": {},
   "outputs": [],
   "source": [
    "b = 2\n",
    "print(b)\n",
    "b = b + 1\n",
    "print(b)"
   ]
  },
  {
   "cell_type": "markdown",
   "metadata": {},
   "source": [
    "Egy bizonyos tĂ­pusĂş vĂĄltozĂł kaphat mĂĄs tĂ­pusĂş ĂŠrtĂŠket is, pĂŠldĂĄul egy korĂĄbban `int`-et jelĂślĹ vĂĄltozĂłt felĂźlĂ­rhatjuk `string`-re is akĂĄr. Ez nem minden programozĂĄsi nyelvben van Ă­gy."
   ]
  },
  {
   "cell_type": "code",
   "execution_count": null,
   "metadata": {},
   "outputs": [],
   "source": [
    "c = 5\n",
    "print(c, type(c))\n",
    "c = \"abc\"\n",
    "print(c, type(c))"
   ]
  },
  {
   "cell_type": "markdown",
   "metadata": {},
   "source": [
    "## TĂ­puskonverziĂłk (casting)\n",
    "Bizonyos esetekben egy-egy vĂĄltozĂł ĂĄtalakĂ­thatĂł mĂĄs tĂ­pusĂş vĂĄltozĂłvĂĄ, pĂŠldĂĄul egy szĂĄm `string`-gĂŠ, vagy, ha megfelelĹ alakĂş a `string`, akkor az szĂĄmmĂĄ:"
   ]
  },
  {
   "cell_type": "code",
   "execution_count": null,
   "metadata": {},
   "outputs": [],
   "source": [
    "x = 2023\n",
    "print(x, type(x))\n",
    "x = str(x)\n",
    "print(x, type(x))"
   ]
  },
  {
   "cell_type": "code",
   "execution_count": null,
   "metadata": {},
   "outputs": [],
   "source": [
    "y = \"1234.5\"\n",
    "int(y)"
   ]
  },
  {
   "cell_type": "code",
   "execution_count": null,
   "metadata": {},
   "outputs": [],
   "source": [
    "float(y)"
   ]
  },
  {
   "cell_type": "code",
   "execution_count": null,
   "metadata": {},
   "outputs": [],
   "source": [
    "z = \"123012aetr\"\n",
    "float(z)"
   ]
  },
  {
   "cell_type": "markdown",
   "metadata": {},
   "source": [
    "## Aritmetikai mĹąveletek"
   ]
  },
  {
   "cell_type": "markdown",
   "metadata": {},
   "source": [
    "A szĂĄm tĂ­pusĂş vĂĄltozĂłkkal elvĂŠgezhetĹk a szokĂĄsos szĂĄmtani mĹąveletek:"
   ]
  },
  {
   "cell_type": "code",
   "execution_count": null,
   "metadata": {},
   "outputs": [],
   "source": [
    "a = 11\n",
    "b = 4"
   ]
  },
  {
   "cell_type": "code",
   "execution_count": null,
   "metadata": {},
   "outputs": [],
   "source": [
    "print(a * (b+b))\n",
    "print(a - b)\n",
    "print(a * b)\n",
    "print(a / b)"
   ]
  },
  {
   "cell_type": "markdown",
   "metadata": {},
   "source": [
    "A `%` az osztĂĄsi maradĂŠkot jelĂśli (_modulo_ operĂĄtor), a `//` pedig a maradĂŠkos osztĂĄst:"
   ]
  },
  {
   "cell_type": "code",
   "execution_count": null,
   "metadata": {},
   "outputs": [],
   "source": [
    "print(a % b)\n",
    "print(a // b)"
   ]
  },
  {
   "cell_type": "markdown",
   "metadata": {},
   "source": [
    "A modulo operĂĄtor negatĂ­v szĂĄmokkal is mĹąkĂśdik:"
   ]
  },
  {
   "cell_type": "code",
   "execution_count": null,
   "metadata": {},
   "outputs": [],
   "source": [
    "-1 % 5"
   ]
  },
  {
   "cell_type": "markdown",
   "metadata": {},
   "source": [
    "A hatvĂĄnyozĂĄs mĹąveletĂŠt a `**` jelĂśli:"
   ]
  },
  {
   "cell_type": "code",
   "execution_count": null,
   "metadata": {},
   "outputs": [],
   "source": [
    "print(a ** 2)\n",
    "print(a * a)"
   ]
  },
  {
   "cell_type": "markdown",
   "metadata": {},
   "source": [
    "### Feladatok:"
   ]
  },
  {
   "cell_type": "markdown",
   "metadata": {},
   "source": [
    "Hogyan vonnĂĄl nĂŠgyzetgyĂśkĂśt egy szĂĄmbĂłl?"
   ]
  },
  {
   "cell_type": "code",
   "execution_count": null,
   "metadata": {},
   "outputs": [],
   "source": [
    "c = 9"
   ]
  },
  {
   "cell_type": "markdown",
   "metadata": {},
   "source": [
    "Hogyan szĂĄmĂ­tanĂĄd ki egy szĂĄm alsĂł (felsĹ) egĂŠszrĂŠszĂŠt? Ăs a tĂśrtrĂŠszĂŠt?"
   ]
  },
  {
   "cell_type": "code",
   "execution_count": null,
   "metadata": {},
   "outputs": [],
   "source": [
    "x = 8.2"
   ]
  },
  {
   "cell_type": "code",
   "execution_count": null,
   "metadata": {},
   "outputs": [],
   "source": []
  },
  {
   "cell_type": "code",
   "execution_count": null,
   "metadata": {},
   "outputs": [],
   "source": []
  },
  {
   "cell_type": "markdown",
   "metadata": {},
   "source": [
    "Hogyan vizsgĂĄlnĂĄd meg hogy egy szĂĄm pĂĄros-e?"
   ]
  },
  {
   "cell_type": "code",
   "execution_count": null,
   "metadata": {},
   "outputs": [],
   "source": [
    "d = 5"
   ]
  },
  {
   "cell_type": "markdown",
   "metadata": {},
   "source": [
    "HatĂĄrozd meg az `12345` szĂĄm utolsĂł elĹtti szĂĄmjegyĂŠt"
   ]
  },
  {
   "cell_type": "code",
   "execution_count": null,
   "metadata": {},
   "outputs": [],
   "source": [
    "m = 12345"
   ]
  },
  {
   "cell_type": "markdown",
   "metadata": {},
   "source": [
    "## MĹąveletek `string`-ekkel"
   ]
  },
  {
   "cell_type": "code",
   "execution_count": null,
   "metadata": {},
   "outputs": [],
   "source": [
    "print(dir(str))"
   ]
  },
  {
   "cell_type": "code",
   "execution_count": null,
   "metadata": {},
   "outputs": [],
   "source": [
    "dir(math)"
   ]
  },
  {
   "cell_type": "markdown",
   "metadata": {},
   "source": [
    "### KonkatenĂĄciĂł (ĂśsszefĹązĂŠs):"
   ]
  },
  {
   "cell_type": "code",
   "execution_count": null,
   "metadata": {
    "scrolled": true
   },
   "outputs": [],
   "source": [
    "print(\"abc\" + \"xyz\" + \"qwert\" + str(9))"
   ]
  },
  {
   "cell_type": "code",
   "execution_count": null,
   "metadata": {},
   "outputs": [],
   "source": [
    "x = \"abc\"\n",
    "y = \"xyz\"\n",
    "z = x + \" \" + y\n",
    "print(z)"
   ]
  },
  {
   "cell_type": "code",
   "execution_count": null,
   "metadata": {},
   "outputs": [],
   "source": [
    "n = 5\n",
    "x = \"abc-\"\n",
    "y = \"jjasnd\"\n",
    "print(x*n+y*9)"
   ]
  },
  {
   "cell_type": "markdown",
   "metadata": {},
   "source": [
    "### IndexelĂŠs:\n",
    "A `string`-eket ha karakterlĂĄnckĂŠnt kĂŠpzeljĂźk, akkor lehet indexelni is Ĺket, azaz lekĂŠrdezni a karakterlĂĄnc $i$-edik elemĂŠt. Az indexelĂŠs 0-tĂłl kezdĹdik."
   ]
  },
  {
   "cell_type": "code",
   "execution_count": null,
   "metadata": {},
   "outputs": [],
   "source": [
    "x = 'abcdefghijk'\n",
    "x[0]"
   ]
  },
  {
   "cell_type": "markdown",
   "metadata": {},
   "source": [
    "A `string` hossza a tartalmazott kerekterek szĂĄma, a `len` fĂźggvĂŠnnyel lehet lekĂŠrdezni:"
   ]
  },
  {
   "cell_type": "code",
   "execution_count": null,
   "metadata": {},
   "outputs": [],
   "source": [
    "len(x)"
   ]
  },
  {
   "cell_type": "code",
   "execution_count": null,
   "metadata": {},
   "outputs": [],
   "source": [
    "x[len(x)-1]\n",
    "x[-1]"
   ]
  },
  {
   "cell_type": "markdown",
   "metadata": {},
   "source": [
    "A `string`-ek indexelĂŠs \"modulo `len`\" mĹąkĂśdik, vagyis:"
   ]
  },
  {
   "cell_type": "code",
   "execution_count": null,
   "metadata": {},
   "outputs": [],
   "source": [
    "print(x[-3])\n",
    "print(-3%len(x))\n",
    "print(x[-3%len(x)])\n",
    "print(x[-3])"
   ]
  },
  {
   "cell_type": "markdown",
   "metadata": {},
   "source": [
    "A `string`-eknek nemcsak egy-egy karakterĂŠt lehet lekĂŠrdezni, hanem egy szeletĂŠt is:"
   ]
  },
  {
   "cell_type": "code",
   "execution_count": null,
   "metadata": {},
   "outputs": [],
   "source": [
    "x[1:5]"
   ]
  },
  {
   "cell_type": "markdown",
   "metadata": {},
   "source": [
    "_(Itt az [a:b] azt jelĂśli, hogy az a. indexen lĂŠvĹ karaktertĹl a b-1. indexen lĂŠvĹ karakterig kĂŠrdezzĂźk le.)_"
   ]
  },
  {
   "cell_type": "code",
   "execution_count": null,
   "metadata": {},
   "outputs": [],
   "source": [
    "x[5:1]"
   ]
  },
  {
   "cell_type": "markdown",
   "metadata": {},
   "source": [
    "A szeletelĂŠsnĂŠl megadhatĂł az is, hogy mekkora lĂŠpĂŠskĂśzĂśkkel szeretnĂŠnk lekĂŠrdezni, vagyis az [a:b:c] azt jelenti, hogy az a. karaktertĹl a b-1. karakterig minden c. karaktert kĂŠrĂźnk."
   ]
  },
  {
   "cell_type": "code",
   "execution_count": null,
   "metadata": {},
   "outputs": [],
   "source": [
    "x[::5]"
   ]
  },
  {
   "cell_type": "code",
   "execution_count": null,
   "metadata": {},
   "outputs": [],
   "source": [
    "x[1::2]"
   ]
  },
  {
   "cell_type": "markdown",
   "metadata": {},
   "source": [
    "### Feladatok:"
   ]
  },
  {
   "cell_type": "markdown",
   "metadata": {},
   "source": [
    "KĂŠrdezd le a \"parallelepipedon\" minden harmadik betĹąjĂŠt!"
   ]
  },
  {
   "cell_type": "code",
   "execution_count": null,
   "metadata": {},
   "outputs": [],
   "source": [
    "p = \"parallelepipedon\""
   ]
  },
  {
   "cell_type": "code",
   "execution_count": null,
   "metadata": {},
   "outputs": [],
   "source": [
    "p[2::3]"
   ]
  },
  {
   "cell_type": "markdown",
   "metadata": {},
   "source": [
    "FordĂ­tsd meg helyben a \"parallelepipedon\" szĂłt!"
   ]
  },
  {
   "cell_type": "code",
   "execution_count": null,
   "metadata": {},
   "outputs": [],
   "source": [
    "p[::-1]"
   ]
  },
  {
   "cell_type": "markdown",
   "metadata": {},
   "source": [
    "CserĂŠld ki a szĂł elejĂŠt ĂŠs vĂŠgĂŠt Ăşgy, hogy a pipedon-parallele szĂłt kapjad!"
   ]
  },
  {
   "cell_type": "code",
   "execution_count": null,
   "metadata": {},
   "outputs": [],
   "source": [
    "p[9:16] + '-' + p[:9]"
   ]
  },
  {
   "cell_type": "markdown",
   "metadata": {},
   "source": [
    "Mondd meg ismĂŠt az $12345$ utolsĂł elĹtti szĂĄmjegyĂŠt, ezĂşttal `string` mĹąveletek segĂ­tsgĂŠvel!"
   ]
  },
  {
   "cell_type": "code",
   "execution_count": null,
   "metadata": {},
   "outputs": [],
   "source": [
    "s=str(12345)"
   ]
  },
  {
   "cell_type": "markdown",
   "metadata": {},
   "source": [
    "### Feladat:\n",
    "EgyĂŠb `string` mĹąveletek:"
   ]
  },
  {
   "cell_type": "code",
   "execution_count": null,
   "metadata": {},
   "outputs": [],
   "source": [
    "x = \"Ez AzTĂĄN a FuRa StRiNg\"\n"
   ]
  },
  {
   "cell_type": "markdown",
   "metadata": {},
   "source": [
    "Printeld ki x-et csak kisbetĹąvel, csupa nagybetĹąvel ĂŠs vĂŠgĂźl Ăşgy, hogy az elsĹ legyen nagy a tĂśbbi csupa kicsi."
   ]
  },
  {
   "cell_type": "code",
   "execution_count": null,
   "metadata": {},
   "outputs": [],
   "source": []
  },
  {
   "cell_type": "code",
   "execution_count": null,
   "metadata": {},
   "outputs": [],
   "source": [
    "print(x.isalpha())"
   ]
  },
  {
   "cell_type": "code",
   "execution_count": null,
   "metadata": {},
   "outputs": [],
   "source": [
    "print(\"asdc\".isalpha())"
   ]
  },
  {
   "cell_type": "markdown",
   "metadata": {},
   "source": [
    "## ĂsszehasonlĂ­tĂĄs:"
   ]
  },
  {
   "cell_type": "markdown",
   "metadata": {},
   "source": [
    "KĂŠt szĂĄm vĂĄltozĂł esetĂŠn el lehet dĂśnteni, hogy ugyanazt az ĂŠrtĂŠket jelĂślik-e:"
   ]
  },
  {
   "cell_type": "code",
   "execution_count": null,
   "metadata": {},
   "outputs": [],
   "source": [
    "a = 5\n",
    "b = 5\n",
    "c = \"xyz\"\n",
    "d = \"xyz\"\n",
    "print(a == b)\n",
    "print(c == d)\n",
    "print(b == c)"
   ]
  },
  {
   "cell_type": "markdown",
   "metadata": {},
   "source": [
    "A $\\leq$,$<$,$\\geq$,$>$ operĂĄtorok is hasznĂĄlhatĂłk:"
   ]
  },
  {
   "cell_type": "code",
   "execution_count": null,
   "metadata": {},
   "outputs": [],
   "source": [
    "a = 4\n",
    "b = 5\n",
    "print(a > b)\n",
    "print(a <= b)"
   ]
  },
  {
   "cell_type": "markdown",
   "metadata": {},
   "source": [
    "A `string`-ek esetĂŠben hogyan mĹąkĂśdnek az ĂśsszehasonlĂ­tĂł operĂĄtorok?"
   ]
  },
  {
   "cell_type": "code",
   "execution_count": null,
   "metadata": {
    "scrolled": true
   },
   "outputs": [],
   "source": [
    "s  = \"Abc\"\n",
    "s2 = \"abc\"\n",
    "t  = \"bcd\"\n",
    "print(s < s2)\n",
    "print(s > t)"
   ]
  },
  {
   "cell_type": "code",
   "execution_count": null,
   "metadata": {},
   "outputs": [],
   "source": [
    "s1 = \"abc\"\n",
    "s2 = \"acb\"\n",
    "print(s1 < s2)\n",
    "print(s1 > s2)"
   ]
  },
  {
   "cell_type": "markdown",
   "metadata": {},
   "source": [
    "## BeolvasĂĄs, kiĂ­rĂĄs:"
   ]
  },
  {
   "cell_type": "markdown",
   "metadata": {},
   "source": [
    "Az `input` fĂźggvĂŠny segĂ­tsĂŠgĂŠvel lehet a felhasznĂĄlĂłtĂłl inputot kĂŠrni:"
   ]
  },
  {
   "cell_type": "code",
   "execution_count": null,
   "metadata": {},
   "outputs": [],
   "source": [
    "x = input(\"Adj meg egy szĂĄmot lĂŠgyszĂ­ves:\")\n",
    "print(x.isnumeric())\n",
    "print(x, type(x))"
   ]
  },
  {
   "cell_type": "markdown",
   "metadata": {},
   "source": [
    "A szĂśveg formĂĄzĂĄsĂĄra egy lehetĹsĂŠg az `fstring`-ek hasznĂĄlata:"
   ]
  },
  {
   "cell_type": "code",
   "execution_count": null,
   "metadata": {},
   "outputs": [],
   "source": [
    "x = 1235\n",
    "print(f\"A beolvasott input az {x}, tĂ­pusa {type(x)}\")"
   ]
  },
  {
   "cell_type": "code",
   "execution_count": null,
   "metadata": {},
   "outputs": [],
   "source": [
    "print(\"A beolvasott input az \" + str(x) + \", tĂ­pusa \" +  str(type(x)))"
   ]
  },
  {
   "cell_type": "markdown",
   "metadata": {},
   "source": [
    "## A for ciklus\n",
    "\n",
    "JelĂśljĂśn iter egy iterĂĄlhatĂł objektumot (pl. sztringet). A for ciklus sĂŠmĂĄja a kĂśvetkezĹ:\n",
    "```python\n",
    "for i in iterable:\n",
    "    do_something\n",
    "```\n",
    "    \n",
    "alapszabĂĄly! : ne vĂĄltoztasd azt amin iterĂĄlsz vagy az iterĂĄtort ha nincs rĂĄ okod!"
   ]
  },
  {
   "cell_type": "code",
   "execution_count": null,
   "metadata": {
    "scrolled": true
   },
   "outputs": [],
   "source": [
    "tomb=[0,1,2,3]\n",
    "for i in tomb:\n",
    "    print(i)"
   ]
  },
  {
   "cell_type": "code",
   "execution_count": null,
   "metadata": {},
   "outputs": [],
   "source": [
    "for i in range(4):\n",
    "    print(i)"
   ]
  },
  {
   "cell_type": "markdown",
   "metadata": {},
   "source": [
    "### *-os Feladatok"
   ]
  },
  {
   "cell_type": "markdown",
   "metadata": {},
   "source": [
    "PrĂłbĂĄld ki a beolvasĂĄst! Olvasd be a nevedet, majd Ă­rasd ki, hogy \"Hello <nĂŠv>!\""
   ]
  },
  {
   "cell_type": "code",
   "execution_count": null,
   "metadata": {},
   "outputs": [],
   "source": [
    "x = input(\"NĂŠv:\")"
   ]
  },
  {
   "cell_type": "code",
   "execution_count": null,
   "metadata": {},
   "outputs": [],
   "source": [
    "print('Hello '+ x + \"!\")"
   ]
  },
  {
   "cell_type": "markdown",
   "metadata": {},
   "source": [
    "Ărasd 30-szor egymĂĄs utĂĄn hogy 'ha'"
   ]
  },
  {
   "cell_type": "code",
   "execution_count": null,
   "metadata": {},
   "outputs": [],
   "source": []
  },
  {
   "cell_type": "markdown",
   "metadata": {},
   "source": [
    "Az inds stringben indexek vannak pĂĄrosĂĄval egymĂĄs utĂĄn. Add meg az s stringbĹl azokat a rĂŠszeket amik az inds index pĂĄrok kĂśzĂśtt vannak."
   ]
  },
  {
   "cell_type": "code",
   "execution_count": null,
   "metadata": {},
   "outputs": [],
   "source": [
    "s='HumptyDumptysatonawallHumptyDumptyhadagreatfallAlltheKingshorsesandalltheKingsmenCouldntputHumptyDumptyinhisplaceagain.'\n",
    "inds='22 27, 97 102'"
   ]
  },
  {
   "cell_type": "markdown",
   "metadata": {},
   "source": [
    "Keresd meg a kĂśvetkezĹ szĂĄmok kĂśzĂźl a maximumot:"
   ]
  },
  {
   "cell_type": "code",
   "execution_count": null,
   "metadata": {},
   "outputs": [],
   "source": [
    "szamok = [11,20,0,21,43,25,36,41,63, 51, 91, 33, 52, 55,12,31, 6,5] "
   ]
  },
  {
   "cell_type": "markdown",
   "metadata": {},
   "source": [
    "Mi a szamok tĂśmb szummĂĄja?"
   ]
  },
  {
   "cell_type": "code",
   "execution_count": null,
   "metadata": {},
   "outputs": [],
   "source": []
  },
  {
   "cell_type": "markdown",
   "metadata": {},
   "source": [
    "KĂŠrj be inputkĂŠnt kĂŠt integert, a-t ĂŠs b-t.\n",
    "\n",
    "\n",
    "EzutĂĄn szĂĄmold ki az Ăśsszes a ĂŠs b kĂśzĂśtti pĂĄratlan szĂĄm szummĂĄjĂĄt."
   ]
  },
  {
   "cell_type": "code",
   "execution_count": null,
   "metadata": {},
   "outputs": [],
   "source": []
  }
 ],
 "metadata": {
  "kernelspec": {
   "display_name": "Python 3",
   "language": "python",
   "name": "python3"
  },
  "language_info": {
   "codemirror_mode": {
    "name": "ipython",
    "version": 3
   },
   "file_extension": ".py",
   "mimetype": "text/x-python",
   "name": "python",
   "nbconvert_exporter": "python",
   "pygments_lexer": "ipython3",
   "version": "3.7.3"
  }
 },
 "nbformat": 4,
 "nbformat_minor": 5
}