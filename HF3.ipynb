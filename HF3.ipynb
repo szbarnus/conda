{
 "cells": [
  {
   "cell_type": "markdown",
   "id": "8fc84b48",
   "metadata": {},
   "source": [
    "# 3. Házi feladat\n",
    "\n",
    "\n",
    "**1)** Hányadikig kell összeadni az elemeket az \n",
    "\n",
    "$$ a_{n\\:}=3n\\:-1,\\quad n\\geq 0$$\n",
    "\n",
    "sorozatban, hogy 19-cel osztható páratlan számot kapjunk? Az egész mondatos választ írassuk ki a képernyőre. (Pl.: \"A sorozat elemeit a(z) xxx. elemig kell összeadni.\")"
   ]
  },
  {
   "cell_type": "code",
   "execution_count": null,
   "id": "55cad651",
   "metadata": {},
   "outputs": [],
   "source": []
  },
  {
   "cell_type": "code",
   "execution_count": null,
   "id": "2c9c43fb",
   "metadata": {},
   "outputs": [],
   "source": []
  },
  {
   "cell_type": "markdown",
   "id": "d0e8751a",
   "metadata": {},
   "source": [
    "**2)** Tehenek és Bikák egy kódfejtő játék, amelyet két játékos játszik. Ebben az egyik játékos megpróbál kitalálni egy titkos kódot, amelyet a másik játékos választott ki. A szabályok a következők:\n",
    "\n",
    "    - Egy játékos létrehoz egy titkos kódot (használj 'random.randint()' fv-t), amely általában egy 4 jegyű szám. Ennek a számnak nem lehetnek ismétlődő számjegyei.\n",
    "    - A másik játékos próbálja kitalálni ezt a 4 jegyű titkos számot. Minden tipp után két fajta visszajelzést kap – Tehenek és Bikák.\n",
    "    - A „Bikák” jelzik, hogy hány számjegy van helyesen és jó helyen, míg a „Tehenek” jelzik, hogy hány számjegy helyes, de rossz helyen található. Például, ha a titkos kód 1234, és a tippelt szám 1246, akkor 2 BIKA van (az 1-es és a 2-es számok helyesek és jó helyen), valamint 1 TEHÉN (a 4-es szám helyes, de rossz helyen van).\n",
    "    - A játékos addig tippel, amíg a titkos kódot ki nem találja. Az nyer, aki a legkevesebb próbálkozásból kitalálja a titkos kódot.\n",
    "    \n",
    "    \n",
    "Implementáld a játékot egy függvénykénet úgy, hogy a gép ellen lehessen játszani. A gép generálja a titkos kódot, a függvény bemeneti paraméterként kapjon egy számot, ai meghatározza a kód hosszát. Legyen felhasználó barát, segítse a játékost üzenetekkel! \n",
    "Írd meg a házi beküldésénél emailben, hogy mi volt a rekordod kitalálási próbálkozásod!\n"
   ]
  },
  {
   "cell_type": "code",
   "execution_count": null,
   "id": "16cbc568",
   "metadata": {},
   "outputs": [],
   "source": []
  },
  {
   "cell_type": "markdown",
   "id": "b2358ed0",
   "metadata": {},
   "source": [
    "**4a)** Tárold el egy szótárban, hogy 1-től 100-ig az összes egész szám valódi osztóit és valódi osztóinak a számát az alábbi formában:\n",
    "```\n",
    "{   \n",
    "    1  : {\"valodi osztok\" : [],\n",
    "          \"valodi osztok szama\" : 0},\n",
    "    ...\n",
    "    10 : {\"valodi osztok\" : [2, 5],\n",
    "          \"valodi osztok szama\" : 2},\n",
    "    ...\n",
    "    100: {\"valodi osztok\" : [2, 4, 5, 10, 20, 25, 50],\n",
    "          \"valodi osztok szama\" : 7},\n",
    "}\n",
    "```\n",
    "**4b)** Melyik számoknak van a legtöbb valódi osztója 1 és 100 között, és ez hány darab valódi osztó?"
   ]
  },
  {
   "cell_type": "code",
   "execution_count": null,
   "id": "04983b60",
   "metadata": {},
   "outputs": [],
   "source": []
  }
 ],
 "metadata": {
  "kernelspec": {
   "display_name": "Python 3 (ipykernel)",
   "language": "python",
   "name": "python3"
  },
  "language_info": {
   "codemirror_mode": {
    "name": "ipython",
    "version": 3
   },
   "file_extension": ".py",
   "mimetype": "text/x-python",
   "name": "python",
   "nbconvert_exporter": "python",
   "pygments_lexer": "ipython3",
   "version": "3.9.13"
  }
 },
 "nbformat": 4,
 "nbformat_minor": 5
}
