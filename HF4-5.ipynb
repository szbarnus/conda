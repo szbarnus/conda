{
 "cells": [
  {
   "cell_type": "markdown",
   "id": "ee659799",
   "metadata": {},
   "source": [
    "## 4-5 Házi feladat\n",
    "\n",
    "\n",
    "Sziasztok!\n",
    "\n",
    "A HF 4-5 feladatokat összevonva küldöm. 4 feladat összesen 20 pontot ér, ***határidő okt 24. 12:15***."
   ]
  },
  {
   "cell_type": "markdown",
   "id": "f2ab229e",
   "metadata": {},
   "source": [
    "1) Írj egy függvényt, aminek bemeneti értéke egy 3 vagy 4 hosszú lista. A listahossz ellenőrzése után pedig, kiírja a lista elemek összes lehetséges sorbarendezését. (Ne használj beépített függvényeket, próbáld meg megoldani egyszerű kódolással!)"
   ]
  },
  {
   "cell_type": "code",
   "execution_count": null,
   "id": "dfe184f7",
   "metadata": {},
   "outputs": [],
   "source": []
  },
  {
   "cell_type": "markdown",
   "id": "6462e032",
   "metadata": {},
   "source": [
    "2) Olvasd be a countries_data.json nevű fájlt egy `countries_data` nevű dictionary-be.\n",
    "\n",
    "countries_data.json fájlban az alábbi szerkezet szerint vannak az országok:\n",
    "\n",
    "kulcsok: országok nevei, értékek: adatok, az országokról szótárban\n",
    "\n",
    "pl.:\n",
    "\n",
    "```Python\n",
    "{ 'Albania':\n",
    " {'area': '28,748 sq km',\n",
    " 'population': '3,101,621 (2023 est.)',\n",
    " 'coastline long': '362 km',\n",
    " 'highest point': 'Maja e Korabit (Golem Korab) 2,764 m',\n",
    " 'median age': '35.8 years (2023 est.)',\n",
    " 'life expectancy': '79.7 years (2023 est.)',\n",
    " 'beer consumtion per capita': '1.75 liters of pure alcohol (2019 est.)',\n",
    " 'GDB per capita': '$15,500',\n",
    " 'Currently married women % (ages 15-49)': '67.2  % (2023 est.)'\n",
    " }\n",
    "}\n",
    "```\n",
    "\n",
    "Írj egy függvényt, ami futtat a `countries_data` dictionary segítségével egy kvízjátékot. A kvízjáték alatt a játékosnak meg kell adnia egy top 10-es listát sorrendben az előre kiválasztott országmutatók közül, pl 10 legnagyobb ország területre.\n",
    "\n",
    "A játék menete:\n",
    "\n",
    "- A játékos kiválasztja, hogy milyen kategória szerint akar versenyezni. Lehessen választani az adathalmaz minden adat kategoriája közül lenagyobb és lekisebb 10 szerint.\n",
    "- Jelezzen vissza a gép, hogy kéri az első-t (itt mmegfelelően legnagyobbat, ill legkisebbet)\n",
    "- A játékos tippeljen az elsőre. Ezután ha nem talált, akkor javítsa ki a gép és adja meg a helyes választ. Minden esetben, ha talált vagy nem talált írja ki, hogy mi a hozzá tartozó adat. (Pl a legnagyobb ország területét). Ezután kérje be a másodikat és így tovább."
   ]
  },
  {
   "cell_type": "code",
   "execution_count": null,
   "id": "523df4b9",
   "metadata": {},
   "outputs": [],
   "source": []
  },
  {
   "cell_type": "markdown",
   "id": "2076e4c1",
   "metadata": {},
   "source": [
    "3) Írj egy függvényt, aminek két paramétere van egy string-ekből álló lista és pozitív egész küszöbérték. A függvény visszatérési értéke azon karakterek listája, amelyek legalább a küszöbértékben megadott számú sztringben előfordulnak.\n",
    "\n",
    "Pl. ha a függvényünk neve frequent_chars, akkor\n",
    "\n",
    "```Python\n",
    "frequent_chars( [\"alma\", \"malna\",\"golya\"], 3)\n",
    "```\n",
    "\n",
    "return értéke \n",
    "```Python \n",
    "[\"a\",\"l\"].\n",
    "``` \n",
    "\n",
    "Ha a küszöbérték három helyett kettő lenne, akkor még az `\"m\"` is bekerülne a listába. A visszaadott lista legyen sorba rendezve. Lássuk el a függvényt típus annotációval, írjunk hozzá docstring-et (magyarul vagy angolul, ahogy kényelmesebb).\n",
    "\n",
    "\n",
    "Írjunk teszt függvényt, ami ellenőrzi, legalább az alábbi esetkre ellenőrzi a helyes működést:\n",
    "\n",
    "• Az eredmény nem függ a stringek sorrendjétől az argumentumként kapott listában.\n",
    "\n",
    "• A stringek listája üres.\n",
    "\n",
    "• Véletlenszerű stringekből álló lista.\n",
    "\n",
    "• Ugyanaz a string ismétlődik sokszor."
   ]
  },
  {
   "cell_type": "code",
   "execution_count": null,
   "id": "2accf3a7",
   "metadata": {},
   "outputs": [],
   "source": []
  },
  {
   "cell_type": "code",
   "execution_count": null,
   "id": "8032ba2c",
   "metadata": {},
   "outputs": [],
   "source": []
  },
  {
   "cell_type": "markdown",
   "id": "9db8fae7",
   "metadata": {},
   "source": [
    "4) Írj egy olyan függvényt, ami tetszőleges sok int bemenetre kiszámolja visszatér a második legnagyobb elemmel. Írj hozzá egy rövid tesztet. Végezz minél kevesebb összehasonlítást, ne használj beépített max függvényt!"
   ]
  },
  {
   "cell_type": "code",
   "execution_count": null,
   "id": "643ed1dd",
   "metadata": {},
   "outputs": [],
   "source": []
  },
  {
   "cell_type": "code",
   "execution_count": null,
   "id": "231d2c63",
   "metadata": {},
   "outputs": [],
   "source": []
  }
 ],
 "metadata": {
  "kernelspec": {
   "display_name": "Python 3 (ipykernel)",
   "language": "python",
   "name": "python3"
  },
  "language_info": {
   "codemirror_mode": {
    "name": "ipython",
    "version": 3
   },
   "file_extension": ".py",
   "mimetype": "text/x-python",
   "name": "python",
   "nbconvert_exporter": "python",
   "pygments_lexer": "ipython3",
   "version": "3.9.13"
  }
 },
 "nbformat": 4,
 "nbformat_minor": 5
}
